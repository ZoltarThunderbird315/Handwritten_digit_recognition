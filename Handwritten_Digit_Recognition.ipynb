{
  "nbformat": 4,
  "nbformat_minor": 0,
  "metadata": {
    "colab": {
      "name": "Handwritten Digit Recognition.ipynb",
      "provenance": []
    },
    "kernelspec": {
      "name": "python3",
      "display_name": "Python 3"
    },
    "language_info": {
      "name": "python"
    }
  },
  "cells": [
    {
      "cell_type": "code",
      "metadata": {
        "colab": {
          "base_uri": "https://localhost:8080/"
        },
        "id": "NwItVUPLqXaN",
        "outputId": "4ad33648-64ef-4641-8b8f-a862f51ec4ff"
      },
      "source": [
        "import keras\n",
        "from keras.datasets import mnist\n",
        "from keras.models import Sequential\n",
        "from keras.layers import Dense, Dropout, Flatten\n",
        "from keras.layers import Conv2D, MaxPooling2D\n",
        "from keras import backend as K\n",
        "\n",
        "# the data, split between train and test sets\n",
        "(x_train, y_train), (x_test, y_test) = mnist.load_data()\n",
        "\n",
        "print(x_train.shape, y_train.shape)"
      ],
      "execution_count": 1,
      "outputs": [
        {
          "output_type": "stream",
          "text": [
            "(60000, 28, 28) (60000,)\n"
          ],
          "name": "stdout"
        }
      ]
    },
    {
      "cell_type": "code",
      "metadata": {
        "colab": {
          "base_uri": "https://localhost:8080/"
        },
        "id": "R1Qx1XQOryQl",
        "outputId": "e5ba32f7-e5ee-4507-8400-0a2b45c7bbf5"
      },
      "source": [
        "n = set(y_train)\n",
        "n"
      ],
      "execution_count": 3,
      "outputs": [
        {
          "output_type": "execute_result",
          "data": {
            "text/plain": [
              "{0, 1, 2, 3, 4, 5, 6, 7, 8, 9}"
            ]
          },
          "metadata": {
            "tags": []
          },
          "execution_count": 3
        }
      ]
    },
    {
      "cell_type": "code",
      "metadata": {
        "colab": {
          "base_uri": "https://localhost:8080/"
        },
        "id": "qLcrd06Qqn_L",
        "outputId": "f9988cba-6931-4d03-c04e-a9339baa1636"
      },
      "source": [
        "#reshaping the data so that we can feed it into the CNN model\n",
        "x_train = x_train.reshape(x_train.shape[0], 28, 28, 1)\n",
        "x_test = x_test.reshape(x_test.shape[0], 28, 28, 1)\n",
        "input_shape = (28, 28, 1)\n",
        "\n",
        "# convert class vectors to binary class matrices\n",
        "y_train = keras.utils.to_categorical(y_train, num_classes=10)\n",
        "y_test = keras.utils.to_categorical(y_test, num_classes=10)\n",
        "\n",
        "#normalizing the data\n",
        "x_train = x_train.astype('float32')\n",
        "x_test = x_test.astype('float32')\n",
        "x_train /= 255\n",
        "x_test /= 255\n",
        "print('x_train shape:', x_train.shape)\n",
        "print(x_train.shape[0], 'train samples')\n",
        "print(x_test.shape[0], 'test samples')"
      ],
      "execution_count": 4,
      "outputs": [
        {
          "output_type": "stream",
          "text": [
            "x_train shape: (60000, 28, 28, 1)\n",
            "60000 train samples\n",
            "10000 test samples\n"
          ],
          "name": "stdout"
        }
      ]
    },
    {
      "cell_type": "code",
      "metadata": {
        "colab": {
          "base_uri": "https://localhost:8080/"
        },
        "id": "CFgrubver8WA",
        "outputId": "9eb023bd-6444-415f-acd3-cf3c51cf8f67"
      },
      "source": [
        "y_train"
      ],
      "execution_count": 5,
      "outputs": [
        {
          "output_type": "execute_result",
          "data": {
            "text/plain": [
              "array([[0., 0., 0., ..., 0., 0., 0.],\n",
              "       [1., 0., 0., ..., 0., 0., 0.],\n",
              "       [0., 0., 0., ..., 0., 0., 0.],\n",
              "       ...,\n",
              "       [0., 0., 0., ..., 0., 0., 0.],\n",
              "       [0., 0., 0., ..., 0., 0., 0.],\n",
              "       [0., 0., 0., ..., 0., 1., 0.]], dtype=float32)"
            ]
          },
          "metadata": {
            "tags": []
          },
          "execution_count": 5
        }
      ]
    },
    {
      "cell_type": "code",
      "metadata": {
        "id": "7-bzpe_JrY_k"
      },
      "source": [
        "batch_size = 128\n",
        "num_classes = 10\n",
        "epochs = 10\n",
        "model = Sequential()\n",
        "model.add(Conv2D(32, kernel_size=(3, 3),activation='relu',input_shape=input_shape))\n",
        "model.add(Conv2D(64, (3, 3), activation='relu'))\n",
        "model.add(MaxPooling2D(pool_size=(2, 2)))\n",
        "model.add(Dropout(0.25))\n",
        "model.add(Flatten())\n",
        "model.add(Dense(256, activation='relu'))\n",
        "model.add(Dropout(0.5))\n",
        "model.add(Dense(num_classes, activation='softmax'))\n",
        "model.compile(loss=keras.losses.categorical_crossentropy,optimizer=keras.optimizers.Adadelta(),metrics=['accuracy'])"
      ],
      "execution_count": 6,
      "outputs": []
    },
    {
      "cell_type": "code",
      "metadata": {
        "colab": {
          "base_uri": "https://localhost:8080/"
        },
        "id": "r_ECq3zYsbzN",
        "outputId": "1039f043-7e98-4795-bbb9-6ed6f473753c"
      },
      "source": [
        "hist = model.fit(x_train, y_train,batch_size=batch_size,epochs=epochs,verbose=1,validation_data=(x_test, y_test))\n",
        "print(\"The model has successfully trained\")\n",
        "\n",
        "model.save('mnist.h5')\n",
        "print(\"Saving the model as mnist.h5\")"
      ],
      "execution_count": 7,
      "outputs": [
        {
          "output_type": "stream",
          "text": [
            "Epoch 1/10\n",
            "469/469 [==============================] - 160s 339ms/step - loss: 2.2967 - accuracy: 0.1199 - val_loss: 2.2541 - val_accuracy: 0.4031\n",
            "Epoch 2/10\n",
            "469/469 [==============================] - 159s 340ms/step - loss: 2.2478 - accuracy: 0.2562 - val_loss: 2.1904 - val_accuracy: 0.5978\n",
            "Epoch 3/10\n",
            "469/469 [==============================] - 159s 340ms/step - loss: 2.1857 - accuracy: 0.3876 - val_loss: 2.1009 - val_accuracy: 0.6434\n",
            "Epoch 4/10\n",
            "469/469 [==============================] - 158s 337ms/step - loss: 2.0957 - accuracy: 0.4748 - val_loss: 1.9713 - val_accuracy: 0.6708\n",
            "Epoch 5/10\n",
            "469/469 [==============================] - 158s 336ms/step - loss: 1.9680 - accuracy: 0.5280 - val_loss: 1.7872 - val_accuracy: 0.7006\n",
            "Epoch 6/10\n",
            "469/469 [==============================] - 157s 335ms/step - loss: 1.7891 - accuracy: 0.5812 - val_loss: 1.5519 - val_accuracy: 0.7314\n",
            "Epoch 7/10\n",
            "469/469 [==============================] - 157s 335ms/step - loss: 1.5705 - accuracy: 0.6232 - val_loss: 1.2990 - val_accuracy: 0.7605\n",
            "Epoch 8/10\n",
            "469/469 [==============================] - 156s 334ms/step - loss: 1.3549 - accuracy: 0.6566 - val_loss: 1.0768 - val_accuracy: 0.7833\n",
            "Epoch 9/10\n",
            "469/469 [==============================] - 156s 333ms/step - loss: 1.1733 - accuracy: 0.6831 - val_loss: 0.9069 - val_accuracy: 0.8016\n",
            "Epoch 10/10\n",
            "469/469 [==============================] - 156s 333ms/step - loss: 1.0408 - accuracy: 0.7067 - val_loss: 0.7845 - val_accuracy: 0.8157\n",
            "The model has successfully trained\n",
            "Saving the model as mnist.h5\n"
          ],
          "name": "stdout"
        }
      ]
    },
    {
      "cell_type": "code",
      "metadata": {
        "colab": {
          "base_uri": "https://localhost:8080/"
        },
        "id": "HS8RwMtuyygx",
        "outputId": "ba3d730a-f6f6-45e0-eb0f-322e978a29ec"
      },
      "source": [
        "score = model.evaluate(x_test, y_test, verbose=0)\n",
        "print('Test loss:', score[0])\n",
        "print('Test accuracy:', score[1])"
      ],
      "execution_count": 10,
      "outputs": [
        {
          "output_type": "stream",
          "text": [
            "Test loss: 0.7845125198364258\n",
            "Test accuracy: 0.8156999945640564\n"
          ],
          "name": "stdout"
        }
      ]
    }
  ]
}